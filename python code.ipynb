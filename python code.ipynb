{
 "cells": [
  {
   "cell_type": "markdown",
   "id": "f4164610",
   "metadata": {},
   "source": [
    "# Functions in python\n",
    "A function is a block of code which only runs when it is called.\n",
    "\n",
    "You can pass data, known as parameters, into a function.\n",
    "\n",
    "A function can return data as a result"
   ]
  },
  {
   "cell_type": "code",
   "execution_count": 1,
   "id": "3e1e0495",
   "metadata": {},
   "outputs": [
    {
     "name": "stdout",
     "output_type": "stream",
     "text": [
      "Hello world\n"
     ]
    }
   ],
   "source": [
    "def my_function():\n",
    "    print(\"Hello world\")\n",
    "my_function()"
   ]
  },
  {
   "cell_type": "code",
   "execution_count": 2,
   "id": "acef651c",
   "metadata": {},
   "outputs": [
    {
     "name": "stdout",
     "output_type": "stream",
     "text": [
      "Hello welcome\n"
     ]
    }
   ],
   "source": [
    "#print vs return\n",
    "def hello_world():\n",
    "    return \"Hello welcome\"\n",
    "value=hello_world()\n",
    "print(value)"
   ]
  },
  {
   "cell_type": "markdown",
   "id": "48271ebc",
   "metadata": {},
   "source": [
    "# Arguments\n",
    "Information can be passed into functions as arguments."
   ]
  },
  {
   "cell_type": "code",
   "execution_count": 3,
   "id": "2db6e56a",
   "metadata": {},
   "outputs": [
    {
     "name": "stdout",
     "output_type": "stream",
     "text": [
      "umasangavi\n"
     ]
    }
   ],
   "source": [
    "def my_function(fname):\n",
    "    print(fname + \"sangavi\")\n",
    "my_function(\"uma\")"
   ]
  },
  {
   "cell_type": "code",
   "execution_count": 8,
   "id": "4326d9f7",
   "metadata": {},
   "outputs": [
    {
     "name": "stdout",
     "output_type": "stream",
     "text": [
      "umasangavi\n"
     ]
    }
   ],
   "source": [
    "def my_function (fname, lname): #2 arguments & gets 2arguments\n",
    "    print(fname+ \"\"+lname)      #2 arguments, but gets only1- will et error\n",
    "my_function(\"uma\",\"sangavi\")"
   ]
  },
  {
   "cell_type": "code",
   "execution_count": 11,
   "id": "85bd5819",
   "metadata": {},
   "outputs": [
    {
     "name": "stdout",
     "output_type": "stream",
     "text": [
      "my name is uma,and age is 12\n"
     ]
    }
   ],
   "source": [
    "def hello(name,age=12):\n",
    "    print(\"my name is {},and age is {}\".format(name,age))\n",
    "hello(\"uma\")"
   ]
  },
  {
   "cell_type": "markdown",
   "id": "3f0a4d5f",
   "metadata": {},
   "source": [
    "# Arbitrary arguments"
   ]
  },
  {
   "cell_type": "code",
   "execution_count": 12,
   "id": "2b4c414c",
   "metadata": {},
   "outputs": [
    {
     "name": "stdout",
     "output_type": "stream",
     "text": [
      "('uma', 'sangavi')\n",
      "{'age': 23, 'dob': 1999}\n"
     ]
    }
   ],
   "source": [
    "def hello(*args,**kwargs): *args-positional arguments, kwargs-keyword arguments\n",
    "    print(args)\n",
    "    print(kwargs)\n",
    "hello('uma','sangavi',age=23,dob=1999)"
   ]
  },
  {
   "cell_type": "code",
   "execution_count": 17,
   "id": "404d82b8",
   "metadata": {},
   "outputs": [],
   "source": [
    "lst=['uma','sangavi']\n",
    "dict_args={'age': 23,'dob': 1999}\n"
   ]
  },
  {
   "cell_type": "code",
   "execution_count": 18,
   "id": "5be79879",
   "metadata": {},
   "outputs": [
    {
     "name": "stdout",
     "output_type": "stream",
     "text": [
      "('uma', 'sangavi')\n",
      "{'age': 23, 'dob': 1999}\n"
     ]
    }
   ],
   "source": [
    "hello(*lst,**dict_args)"
   ]
  },
  {
   "cell_type": "markdown",
   "id": "fedadb6e",
   "metadata": {},
   "source": [
    "# *args "
   ]
  },
  {
   "cell_type": "code",
   "execution_count": 23,
   "id": "a69772bd",
   "metadata": {},
   "outputs": [
    {
     "name": "stdout",
     "output_type": "stream",
     "text": [
      "The youngest child ispuni\n"
     ]
    }
   ],
   "source": [
    "def hello(*kids):\n",
    "    print(\"The youngest child is\"+ kids [2])\n",
    "hello('uma','ovi','puni') #(0,1,2)"
   ]
  },
  {
   "cell_type": "markdown",
   "id": "1183e442",
   "metadata": {},
   "source": [
    "# keyword arguments"
   ]
  },
  {
   "cell_type": "code",
   "execution_count": 26,
   "id": "9ad2127d",
   "metadata": {},
   "outputs": [
    {
     "name": "stdout",
     "output_type": "stream",
     "text": [
      "The youngest child isuma\n"
     ]
    }
   ],
   "source": [
    "def hello(child3,child1,child2):\n",
    "    print(\"The youngest child is\" + child2)\n",
    "hello (child1=\"ovi\",child2=\"uma\",child3=\"puni\")"
   ]
  },
  {
   "cell_type": "markdown",
   "id": "eebd3d2c",
   "metadata": {},
   "source": [
    " # ** kwargs"
   ]
  },
  {
   "cell_type": "code",
   "execution_count": 29,
   "id": "1aa88a54",
   "metadata": {},
   "outputs": [
    {
     "name": "stdout",
     "output_type": "stream",
     "text": [
      "Her last name issangavi\n"
     ]
    }
   ],
   "source": [
    "def hello (**kid):\n",
    "    print(\"Her last name is\"+ kid[\"lname\"])\n",
    "hello(fname=\"uma\",lname=\"sangavi\")"
   ]
  },
  {
   "cell_type": "markdown",
   "id": "eb329e47",
   "metadata": {},
   "source": [
    "# Default parameter value\n",
    "if we call the function without argument, it uses the default value:"
   ]
  },
  {
   "cell_type": "code",
   "execution_count": 31,
   "id": "36f96173",
   "metadata": {},
   "outputs": [
    {
     "name": "stdout",
     "output_type": "stream",
     "text": [
      "I am fromIndia\n",
      "I am fromnorway\n"
     ]
    }
   ],
   "source": [
    "def hello(country='norway'):\n",
    "    print(\"I am from\" + country)\n",
    "hello(\"India\")\n",
    "hello()"
   ]
  },
  {
   "cell_type": "markdown",
   "id": "ed0f804e",
   "metadata": {},
   "source": [
    "# Return values\n",
    "to let a function return a value, use the retun statement"
   ]
  },
  {
   "cell_type": "code",
   "execution_count": 32,
   "id": "2bdbf9fe",
   "metadata": {},
   "outputs": [
    {
     "name": "stdout",
     "output_type": "stream",
     "text": [
      "15\n"
     ]
    }
   ],
   "source": [
    "def hello (x):\n",
    "    return 5*x\n",
    "print (hello(3))"
   ]
  },
  {
   "cell_type": "markdown",
   "id": "d6a35b20",
   "metadata": {},
   "source": [
    "# if condition"
   ]
  },
  {
   "cell_type": "code",
   "execution_count": 33,
   "id": "fb333617",
   "metadata": {},
   "outputs": [
    {
     "name": "stdout",
     "output_type": "stream",
     "text": [
      "b is greater than a\n"
     ]
    }
   ],
   "source": [
    "a = 33\n",
    "b = 200\n",
    "if b > a:\n",
    "  print(\"b is greater than a\")"
   ]
  },
  {
   "cell_type": "markdown",
   "id": "b986b32e",
   "metadata": {},
   "source": [
    "# elif condition\n",
    "if the previous conditions were not true, then try this condition"
   ]
  },
  {
   "cell_type": "code",
   "execution_count": 34,
   "id": "343b752a",
   "metadata": {},
   "outputs": [
    {
     "name": "stdout",
     "output_type": "stream",
     "text": [
      "a and b are equal\n"
     ]
    }
   ],
   "source": [
    "a = 33\n",
    "b = 33\n",
    "if b > a:\n",
    "  print(\"b is greater than a\")\n",
    "elif a == b:\n",
    "  print(\"a and b are equal\")"
   ]
  },
  {
   "cell_type": "markdown",
   "id": "4bc0a114",
   "metadata": {},
   "source": [
    "# else\n",
    "The else keyword catches anything which isn't caught by the preceding conditions."
   ]
  },
  {
   "cell_type": "code",
   "execution_count": 35,
   "id": "ec554aee",
   "metadata": {},
   "outputs": [
    {
     "name": "stdout",
     "output_type": "stream",
     "text": [
      "a is greater than b\n"
     ]
    }
   ],
   "source": [
    "a = 400\n",
    "b = 33\n",
    "if b > a:\n",
    "  print(\"b is greater than a\")\n",
    "elif a == b:\n",
    "  print(\"a and b are equal\")\n",
    "else:\n",
    "  print(\"a is greater than b\")"
   ]
  },
  {
   "cell_type": "markdown",
   "id": "c834826f",
   "metadata": {},
   "source": [
    "# short hand if"
   ]
  },
  {
   "cell_type": "code",
   "execution_count": 36,
   "id": "f829742d",
   "metadata": {},
   "outputs": [
    {
     "name": "stdout",
     "output_type": "stream",
     "text": [
      "a is greater than b\n"
     ]
    }
   ],
   "source": [
    "if a>b: print(\"a is greater than b\")"
   ]
  },
  {
   "cell_type": "markdown",
   "id": "d208d09e",
   "metadata": {},
   "source": [
    "# one line if else statement"
   ]
  },
  {
   "cell_type": "code",
   "execution_count": 38,
   "id": "51891b5a",
   "metadata": {},
   "outputs": [
    {
     "name": "stdout",
     "output_type": "stream",
     "text": [
      "a\n"
     ]
    }
   ],
   "source": [
    "a=45\n",
    "b=34\n",
    "print(\"a\")if a>b else print (\"=\") if a==b else print(\"b\")"
   ]
  },
  {
   "cell_type": "markdown",
   "id": "30b4e9cc",
   "metadata": {},
   "source": [
    "# logical operators\n",
    "AND"
   ]
  },
  {
   "cell_type": "code",
   "execution_count": 41,
   "id": "ee7f4a11",
   "metadata": {},
   "outputs": [
    {
     "name": "stdout",
     "output_type": "stream",
     "text": [
      "Both conditions are True\n"
     ]
    }
   ],
   "source": [
    "a = 200\n",
    "b = 33\n",
    "c = 400\n",
    "if a > b and c > a:\n",
    "  print(\"Both conditions are True\")"
   ]
  },
  {
   "cell_type": "markdown",
   "id": "01354016",
   "metadata": {},
   "source": [
    "# Or"
   ]
  },
  {
   "cell_type": "code",
   "execution_count": 42,
   "id": "8df2973b",
   "metadata": {},
   "outputs": [
    {
     "name": "stdout",
     "output_type": "stream",
     "text": [
      "At least one of the conditions is True\n"
     ]
    }
   ],
   "source": [
    "a = 200\n",
    "b = 33\n",
    "c = 500\n",
    "if a > b or a > c:\n",
    "  print(\"At least one of the conditions is True\")"
   ]
  },
  {
   "cell_type": "markdown",
   "id": "37087d49",
   "metadata": {},
   "source": [
    "# Nested if "
   ]
  },
  {
   "cell_type": "code",
   "execution_count": 45,
   "id": "9e6c496d",
   "metadata": {},
   "outputs": [
    {
     "name": "stdout",
     "output_type": "stream",
     "text": [
      "Above ten,\n",
      "and also above 20!\n"
     ]
    }
   ],
   "source": [
    "x = 41\n",
    "\n",
    "if x > 10:\n",
    "  print(\"Above ten,\")\n",
    "  if x > 20:\n",
    "    print(\"and also above 20!\")\n",
    "  else:\n",
    "    print(\"but not above 20.\")"
   ]
  },
  {
   "cell_type": "markdown",
   "id": "7a6ff230",
   "metadata": {},
   "source": [
    "# python loops-while loops\n",
    "With the while loop we can execute a set of statements as long as a condition is true."
   ]
  },
  {
   "cell_type": "code",
   "execution_count": 46,
   "id": "0940ad7e",
   "metadata": {},
   "outputs": [
    {
     "name": "stdout",
     "output_type": "stream",
     "text": [
      "1\n",
      "2\n",
      "3\n",
      "4\n",
      "5\n"
     ]
    }
   ],
   "source": [
    "i = 1 #Print i as long as i is less than 6\n",
    "while i < 6:\n",
    "  print(i)\n",
    "  i += 1"
   ]
  },
  {
   "cell_type": "markdown",
   "id": "1c746431",
   "metadata": {},
   "source": [
    "# Break statement\n",
    "With the break statement we can stop the loop even if the while condition is true"
   ]
  },
  {
   "cell_type": "code",
   "execution_count": 47,
   "id": "ed7bcb02",
   "metadata": {},
   "outputs": [
    {
     "name": "stdout",
     "output_type": "stream",
     "text": [
      "1\n",
      "2\n",
      "3\n"
     ]
    }
   ],
   "source": [
    "i = 1 #Exit the loop when i is 3\n",
    "while i < 6:\n",
    "  print(i)\n",
    "  if i == 3:\n",
    "    break\n",
    "  i += 1"
   ]
  },
  {
   "cell_type": "markdown",
   "id": "95fdefa3",
   "metadata": {},
   "source": [
    "# continue statement\n",
    "With the continue statement we can stop the current iteration, and continue with the next"
   ]
  },
  {
   "cell_type": "code",
   "execution_count": 50,
   "id": "c5b38800",
   "metadata": {},
   "outputs": [
    {
     "name": "stdout",
     "output_type": "stream",
     "text": [
      "1\n",
      "2\n",
      "4\n",
      "5\n",
      "6\n"
     ]
    }
   ],
   "source": [
    "i = 0 #Continue to the next iteration if i is 3\n",
    "while i < 6:\n",
    "  i += 1\n",
    "  if i == 3:\n",
    "    continue\n",
    "  print(i)"
   ]
  },
  {
   "cell_type": "markdown",
   "id": "c6f38aa8",
   "metadata": {},
   "source": [
    "# else statement\n",
    "With the else statement we can run a block of code once when the condition no longer is true"
   ]
  },
  {
   "cell_type": "code",
   "execution_count": 51,
   "id": "6ff972bf",
   "metadata": {},
   "outputs": [
    {
     "name": "stdout",
     "output_type": "stream",
     "text": [
      "1\n",
      "2\n",
      "3\n",
      "4\n",
      "5\n",
      "i is no longer less than 6\n"
     ]
    }
   ],
   "source": [
    "i = 1\n",
    "while i < 6:\n",
    "  print(i)\n",
    "  i += 1\n",
    "else:\n",
    "  print(\"i is no longer less than 6\")"
   ]
  },
  {
   "cell_type": "markdown",
   "id": "b7aebfc4",
   "metadata": {},
   "source": [
    "# python for loops"
   ]
  },
  {
   "cell_type": "code",
   "execution_count": 52,
   "id": "4b9c83ae",
   "metadata": {},
   "outputs": [
    {
     "name": "stdout",
     "output_type": "stream",
     "text": [
      "apple\n",
      "banana\n",
      "cherry\n"
     ]
    }
   ],
   "source": [
    "fruits = [\"apple\", \"banana\", \"cherry\"]\n",
    "for x in fruits:\n",
    "  print(x)"
   ]
  },
  {
   "cell_type": "markdown",
   "id": "cf3934b6",
   "metadata": {},
   "source": [
    "# looping through a string\n",
    "Even strings are iterable objects, they contain a sequence of characters"
   ]
  },
  {
   "cell_type": "code",
   "execution_count": 53,
   "id": "2473fe49",
   "metadata": {},
   "outputs": [
    {
     "name": "stdout",
     "output_type": "stream",
     "text": [
      "b\n",
      "a\n",
      "n\n",
      "a\n",
      "n\n",
      "a\n"
     ]
    }
   ],
   "source": [
    "for x in \"banana\":\n",
    "  print(x)"
   ]
  },
  {
   "cell_type": "markdown",
   "id": "0026377d",
   "metadata": {},
   "source": [
    "# The break Statement"
   ]
  },
  {
   "cell_type": "code",
   "execution_count": 57,
   "id": "592a6bac",
   "metadata": {},
   "outputs": [
    {
     "name": "stdout",
     "output_type": "stream",
     "text": [
      "apple\n",
      "banana\n"
     ]
    }
   ],
   "source": [
    "fruits = [\"apple\", \"banana\", \"cherry\"]\n",
    "for x in fruits:\n",
    "  print(x)\n",
    "  if x == \"banana\":\n",
    "    break\n",
    "    "
   ]
  },
  {
   "cell_type": "markdown",
   "id": "54ab7396",
   "metadata": {},
   "source": [
    "# The continue statement"
   ]
  },
  {
   "cell_type": "code",
   "execution_count": 62,
   "id": "ae613ca3",
   "metadata": {},
   "outputs": [
    {
     "name": "stdout",
     "output_type": "stream",
     "text": [
      "apple\n",
      "cherry\n"
     ]
    }
   ],
   "source": [
    "fruits = [\"apple\", \"banana\", \"cherry\"]\n",
    "for x in fruits:\n",
    "  if x == \"banana\":\n",
    "    continue\n",
    "  print(x)"
   ]
  },
  {
   "cell_type": "markdown",
   "id": "dcf25d2f",
   "metadata": {},
   "source": [
    "# range function"
   ]
  },
  {
   "cell_type": "code",
   "execution_count": 63,
   "id": "019f2df2",
   "metadata": {},
   "outputs": [
    {
     "name": "stdout",
     "output_type": "stream",
     "text": [
      "2\n",
      "3\n",
      "4\n",
      "5\n"
     ]
    }
   ],
   "source": [
    "for x in range(2,6):\n",
    "    print(x)"
   ]
  },
  {
   "cell_type": "markdown",
   "id": "fce42f88",
   "metadata": {},
   "source": [
    "# else in for loop \n",
    "The else keyword in a for loop specifies a block of code to be executed when the loop is finished"
   ]
  },
  {
   "cell_type": "code",
   "execution_count": 64,
   "id": "ea4bdeab",
   "metadata": {},
   "outputs": [
    {
     "name": "stdout",
     "output_type": "stream",
     "text": [
      "0\n",
      "1\n",
      "2\n",
      "3\n",
      "4\n",
      "5\n",
      "Finally finished!\n"
     ]
    }
   ],
   "source": [
    "for x in range(6): #Print all numbers from 0 to 5, and print a message when the loop has ended\n",
    "  print(x)\n",
    "else:\n",
    "  print(\"Finally finished!\")\n"
   ]
  },
  {
   "cell_type": "markdown",
   "id": "4e0589d7",
   "metadata": {},
   "source": [
    "# Nested Loops\n",
    "\n",
    "A nested loop is a loop inside a loop.\n",
    "\n",
    "The \"inner loop\" will be executed one time for each iteration of the \"outer loop\":"
   ]
  },
  {
   "cell_type": "code",
   "execution_count": 66,
   "id": "9612568a",
   "metadata": {},
   "outputs": [
    {
     "name": "stdout",
     "output_type": "stream",
     "text": [
      "red apple\n",
      "red banana\n",
      "red cherry\n",
      "big apple\n",
      "big banana\n",
      "big cherry\n",
      "tasty apple\n",
      "tasty banana\n",
      "tasty cherry\n"
     ]
    }
   ],
   "source": [
    "adj = [\"red\", \"big\", \"tasty\"] #Print each adjective for every fruit\n",
    "fruits = [\"apple\", \"banana\", \"cherry\"]\n",
    "\n",
    "for x in adj:\n",
    "  for y in fruits:\n",
    "    print(x, y)"
   ]
  },
  {
   "cell_type": "markdown",
   "id": "dd8321fa",
   "metadata": {},
   "source": [
    "# python lambda\n",
    "\n",
    "A lambda function can take any number of arguments, but can only have one expression.\n"
   ]
  },
  {
   "cell_type": "code",
   "execution_count": 67,
   "id": "ed75a9c1",
   "metadata": {},
   "outputs": [
    {
     "name": "stdout",
     "output_type": "stream",
     "text": [
      "15\n"
     ]
    }
   ],
   "source": [
    "x = lambda a : a + 10\n",
    "print(x(5))"
   ]
  },
  {
   "cell_type": "code",
   "execution_count": 68,
   "id": "734215ef",
   "metadata": {},
   "outputs": [
    {
     "name": "stdout",
     "output_type": "stream",
     "text": [
      "30\n"
     ]
    }
   ],
   "source": [
    "x = lambda a, b : a * b\n",
    "print(x(5, 6))"
   ]
  },
  {
   "cell_type": "code",
   "execution_count": 69,
   "id": "780cd4f7",
   "metadata": {},
   "outputs": [
    {
     "name": "stdout",
     "output_type": "stream",
     "text": [
      "22\n"
     ]
    }
   ],
   "source": [
    "def myfunc(n): #lambda function - doubles\n",
    "  return lambda a : a * n\n",
    "mydoubler = myfunc(2)\n",
    "print(mydoubler(11))"
   ]
  },
  {
   "cell_type": "code",
   "execution_count": 70,
   "id": "1dbc4dcb",
   "metadata": {},
   "outputs": [
    {
     "name": "stdout",
     "output_type": "stream",
     "text": [
      "33\n"
     ]
    }
   ],
   "source": [
    "def myfunc(n): #lambda function - triples\n",
    "  return lambda a : a * n\n",
    "mytripler = myfunc(3)\n",
    "print(mytripler(11))"
   ]
  },
  {
   "cell_type": "code",
   "execution_count": null,
   "id": "2b21755e",
   "metadata": {},
   "outputs": [],
   "source": []
  }
 ],
 "metadata": {
  "kernelspec": {
   "display_name": "Python 3 (ipykernel)",
   "language": "python",
   "name": "python3"
  },
  "language_info": {
   "codemirror_mode": {
    "name": "ipython",
    "version": 3
   },
   "file_extension": ".py",
   "mimetype": "text/x-python",
   "name": "python",
   "nbconvert_exporter": "python",
   "pygments_lexer": "ipython3",
   "version": "3.9.7"
  }
 },
 "nbformat": 4,
 "nbformat_minor": 5
}
